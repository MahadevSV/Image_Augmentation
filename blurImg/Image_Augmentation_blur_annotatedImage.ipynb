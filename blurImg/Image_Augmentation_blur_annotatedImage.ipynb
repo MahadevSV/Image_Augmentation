{
 "cells": [
  {
   "cell_type": "code",
   "execution_count": 1,
   "metadata": {},
   "outputs": [],
   "source": [
    "import os\n",
    "from PIL import Image, ImageFilter\n",
    "import numpy as np\n",
    "from xml.dom.minidom import parse"
   ]
  },
  {
   "cell_type": "code",
   "execution_count": 2,
   "metadata": {},
   "outputs": [],
   "source": [
    "imgPath = r\"E:\\myWork\\blurImg\\img\"\n",
    "xmlPath = r\"E:\\myWork\\blurImg\\xml\"\n",
    "opImgPath = r\"E:\\myWork\\blurImg\\opImg\"\n"
   ]
  },
  {
   "cell_type": "code",
   "execution_count": 3,
   "metadata": {},
   "outputs": [],
   "source": [
    "def getCoordinate(xmlPath,xmlFile):\n",
    "    dom = parse(os.path.join(xmlPath,xmlFile))\n",
    "    name = dom.getElementsByTagName('xmin')\n",
    "    xmin=int(name[0].firstChild.nodeValue)\n",
    "\n",
    "    name = dom.getElementsByTagName('ymin')\n",
    "    ymin=name[0].firstChild.nodeValue\n",
    "\n",
    "    name = dom.getElementsByTagName('xmax')\n",
    "    xmax=int(name[0].firstChild.nodeValue)\n",
    "\n",
    "    name = dom.getElementsByTagName('ymax')\n",
    "    ymax=name[0].firstChild.nodeValue\n",
    "    print(xmin,ymin,xmax,ymax)\n",
    "    return xmin,ymin,xmax,ymax"
   ]
  },
  {
   "cell_type": "code",
   "execution_count": 21,
   "metadata": {},
   "outputs": [],
   "source": [
    "def blurImg(ipImgPath, xmin, ymin, xmax, ymax, imgName):\n",
    "    img = Image.open(ipImgPath)\n",
    "    cropImg = img.crop((int(xmin),int(ymin),int(xmax),int(ymax)))\n",
    "    cropImg.show()\n",
    "    blurImage = img.filter(ImageFilter.GaussianBlur(radius=5))\n",
    "    blurImage.show()\n",
    "    blurImage.paste(cropImg,(int(xmin),int(ymin),int(xmax),int(ymax)))\n",
    "    blurImage.show()\n",
    "    blurImage.save(os.path.join(opImgPath,imgName.split(\".\")[0]) + \"_blur\"+\".jpg\")\n",
    "#     opImgFile = os.path.join(opImgPath,imgName.split(\".\")[0])\n",
    "#     opImgP = opImgFile + \"_blur\" + \".jpg\"\n",
    "#     print(\"opfile path ---\",opImgPath)\n",
    "#     finalImg.save(opImgPath)"
   ]
  },
  {
   "cell_type": "code",
   "execution_count": 22,
   "metadata": {},
   "outputs": [
    {
     "name": "stdout",
     "output_type": "stream",
     "text": [
      "1599 318 2617 1456\n",
      "1264 274 2102 1336\n",
      "230 28 416 283\n"
     ]
    }
   ],
   "source": [
    "for imgName in os.listdir(imgPath):\n",
    "    ipImgPath = os.path.join(imgPath,imgName)\n",
    "    for xmlFile in os.listdir(xmlPath):\n",
    "        if ((imgName.split(\".\")[0]) == (xmlFile.split(\".\")[0])):\n",
    "            xmin,ymin,xmax,ymax = getCoordinate(xmlPath,xmlFile)\n",
    "            blurImg(ipImgPath, xmin, ymin, xmax, ymax, imgName)"
   ]
  },
  {
   "cell_type": "code",
   "execution_count": null,
   "metadata": {},
   "outputs": [],
   "source": [
    "iimg = Image.open(r\"E:\\myWork\\blurImg\\img\\IMG_20190606_060837317.jpg\")\n",
    "iimg.show()\n",
    "corpppImg = iimg.crop((1599,318,2617,1456))\n",
    "corpppImg.show()"
   ]
  }
 ],
 "metadata": {
  "kernelspec": {
   "display_name": "Python 3",
   "language": "python",
   "name": "python3"
  },
  "language_info": {
   "codemirror_mode": {
    "name": "ipython",
    "version": 3
   },
   "file_extension": ".py",
   "mimetype": "text/x-python",
   "name": "python",
   "nbconvert_exporter": "python",
   "pygments_lexer": "ipython3",
   "version": "3.7.0"
  }
 },
 "nbformat": 4,
 "nbformat_minor": 4
}
