{
 "cells": [
  {
   "cell_type": "code",
   "execution_count": 6,
   "metadata": {},
   "outputs": [],
   "source": [
    "import numpy as np\n",
    "import matplotlib.image as mpimg\n",
    "import matplotlib.pyplot as plt\n",
    "import random\n",
    "from skimage import exposure\n",
    "from skimage.util import random_noise\n",
    "from skimage import transform\n",
    "from cv2 import resize\n",
    "import cv2\n",
    "import os"
   ]
  },
  {
   "cell_type": "code",
   "execution_count": 7,
   "metadata": {},
   "outputs": [],
   "source": [
    "ipPath = r\"E:\\myWork\\imageAugmentation\\skImage\\ipImg\"\n",
    "opPath = r\"E:\\myWork\\imageAugmentation\\skImage\\opImg\""
   ]
  },
  {
   "cell_type": "code",
   "execution_count": 9,
   "metadata": {},
   "outputs": [],
   "source": [
    "for ifile in os.listdir(ipPath):\n",
    "    img = mpimg.imread(os.path.join(ipPath,ifile))\n",
    "    opfileName = os.path.join(opPath, ifile.split(\".\")[0])\n",
    "    \n",
    "    hor = np.fliplr(img)\n",
    "    plt.imsave(opfileName+ \"_hor.jpg\", hor)\n",
    "    \n",
    "    ver = np.flipud(img)\n",
    "    plt.imsave(opfileName+ \"_ver.jpg\", ver)\n",
    "    \n",
    "    trans30 = transform.rotate(img, random.uniform(-30,30))\n",
    "    plt.imsave(opfileName+ \"_trans30.jpg\", trans30)\n",
    "    \n",
    "    trans60 = transform.rotate(img, random.uniform(-60,60))\n",
    "    plt.imsave(opfileName+ \"_trans60.jpg\", trans60)\n",
    "    \n",
    "    trans90 = transform.rotate(img, random.uniform(-90,90))\n",
    "    plt.imsave(opfileName+ \"_trans90.jpg\", trans90)\n",
    "    \n",
    "    noiseImg = random_noise(img, mode='S&p', clip=True)\n",
    "    plt.imsave(opfileName+ \"_noiseImg.jpg\", noiseImg)\n",
    "    "
   ]
  },
  {
   "cell_type": "code",
   "execution_count": null,
   "metadata": {},
   "outputs": [],
   "source": []
  }
 ],
 "metadata": {
  "kernelspec": {
   "display_name": "Python 3",
   "language": "python",
   "name": "python3"
  },
  "language_info": {
   "codemirror_mode": {
    "name": "ipython",
    "version": 3
   },
   "file_extension": ".py",
   "mimetype": "text/x-python",
   "name": "python",
   "nbconvert_exporter": "python",
   "pygments_lexer": "ipython3",
   "version": "3.7.0"
  }
 },
 "nbformat": 4,
 "nbformat_minor": 4
}
